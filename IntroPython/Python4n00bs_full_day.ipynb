{
 "cells": [
  {
   "cell_type": "markdown",
   "metadata": {},
   "source": [
    "# Python for n00bs - Full day workshop!"
   ]
  },
  {
   "cell_type": "markdown",
   "metadata": {},
   "source": [
    "## Basic concepts and functional programming in Python\n",
    "Welcome to your first day of programming with Python! My name is Vikram Mark Radhakrishnan. You can find me on [LinkedIn](https://www.linkedin.com/in/vikram-mark-radhakrishnan-90038660/), or reach me via email at radhakrishnan@strw.leidenuniv.nl\n",
    "\n",
    "Shout-out to the [AI Lab One](https://www.meetup.com/AI-Lab/), [City AI](https://city.ai/), and [Pythonistas NL](https://www.meetup.com/Pythonistas-NL/) for making this workshop possible!\n",
    "<img src=\"nb_images/AI_Lab_One.jpeg\" width=\"300\" height=\"300\"/> <img src=\"nb_images/Pythonistas.jpg\" width=\"400\" height=\"400\"/> "
   ]
  },
  {
   "cell_type": "markdown",
   "metadata": {},
   "source": [
    "### 1. Your first Python script!\n",
    "Let's start by learning how to display text on the screen - one of the most useful things to do in all of programming!"
   ]
  },
  {
   "cell_type": "code",
   "execution_count": null,
   "metadata": {},
   "outputs": [],
   "source": [
    "# Let's display a message on screen!"
   ]
  },
  {
   "cell_type": "markdown",
   "metadata": {},
   "source": [
    "There's a bunch of things to learn from this one line of code.  \n",
    "First, the line starting with #. This is a comment in Python, meaning that it is purely for you, the programmer to understand what's going on in the code, and is not processed by the Python interpreter.  \n",
    "The print(...) command, which displays whatever is in the parantheses on the screen.  \n",
    "The text to be printed, which is in quotation marks - meaning it is a \"string\". More on this later.  \n",
    "And finally the \"\\n\". The backslash is an escape character, meaning it is taken in combination with the following character. The \\n here means include a new line. Let's look at some more escape characters:"
   ]
  },
  {
   "cell_type": "markdown",
   "metadata": {},
   "source": [
    "**ToDo:** Use the correct escape characters in the next cell."
   ]
  },
  {
   "cell_type": "code",
   "execution_count": null,
   "metadata": {},
   "outputs": [],
   "source": [
    "print(\"Put a tab space between these two words: TAB SPACE\")\n",
    "print(\"Print a backslash at the end of this sentence.\")\n",
    "print(\"Enclose this sentence in quotation marks.\")"
   ]
  },
  {
   "cell_type": "markdown",
   "metadata": {},
   "source": [
    "### 2. Variables and data types in Python\n",
    "A variable is something used to store data. Unlike a constant, which is data that has a fixed value, the content of a variable can change throughout the code."
   ]
  },
  {
   "cell_type": "code",
   "execution_count": null,
   "metadata": {},
   "outputs": [],
   "source": [
    "# Constant\n",
    "print(\"This is a constant: \")\n",
    "print(10)\n",
    "\n",
    "#Variable\n",
    "a = 10\n",
    "print(\"This is a variable: \")\n",
    "print(a)\n",
    "\n",
    "print(\"Let's change the value of the variable: \")\n",
    "a = 20\n",
    "print(a)\n",
    "\n",
    "print(\"Let's change it into a word: \")\n",
    "a = \"twenty\"\n",
    "print(a)\n",
    "\n",
    "valid_variable_name_1 = 1\n",
    "print(valid_variable_name_1)"
   ]
  },
  {
   "cell_type": "markdown",
   "metadata": {},
   "source": [
    "Variables can have different types in Python. Depending on the type of the variable, you can do certain operations on it. For example, you can do mathematical operations such as multiplcation and division on int and float types, which are numbers, but not on string types.\n",
    "\n",
    "#### Numbers:\n",
    "Python supports int (integer) and float (floating point) numbers. A floating point number has a decimal point in it. Python also supports complex numbers (numbers with a real and an imaginary part).\n",
    "#### Words and letters:\n",
    "In Python the str (string) data type refers to words and letters. You must enclose strings in either single or double quotation marks, provided you are consistent. Or you can enclose strings in triple quotation marks which may come in handy as we shall see.\n",
    "#### True and False:\n",
    "Python has a bool (boolean) data type that either contains a True or a False. This is useful when we want to check certain conditions or to make decisions in our code. More on this in conditional statements.\n",
    "#### None:\n",
    "The None type is a special data typr in Python. None is not equal to zero, False, an empty list, or anything else. None is literally nothing, and it signifies the variable has no value.\n",
    "\n",
    "You can check the type of a variable by using type(data)."
   ]
  },
  {
   "cell_type": "code",
   "execution_count": null,
   "metadata": {},
   "outputs": [],
   "source": [
    "y = True\n",
    "type(y)"
   ]
  },
  {
   "cell_type": "markdown",
   "metadata": {},
   "source": [
    "Python data can be converted from one type to another."
   ]
  },
  {
   "cell_type": "code",
   "execution_count": null,
   "metadata": {},
   "outputs": [],
   "source": [
    "chars = '420'\n",
    "print(type(chars))\n",
    "nums = int(chars)\n",
    "print(type(nums))"
   ]
  },
  {
   "cell_type": "markdown",
   "metadata": {},
   "source": [
    "You can input data from a user, using the input() function. This function returns the value entered by the user, which you can then store in a variable."
   ]
  },
  {
   "cell_type": "code",
   "execution_count": null,
   "metadata": {},
   "outputs": [],
   "source": [
    "user_choice = input(\"Pick a number! Any number! \")\n",
    "print(\"You picked the number \" + user_choice)"
   ]
  },
  {
   "cell_type": "markdown",
   "metadata": {},
   "source": [
    "**ToDo:** Try to input some data from the user and display what type of data it is."
   ]
  },
  {
   "cell_type": "markdown",
   "metadata": {},
   "source": [
    "### 3. Operations in Python\n",
    "We can use Python quite simply as a calculator. If we are working with integers, floats, or complex numbers, or variables with such data stored in them, we can perform calculations with this.  \n",
    "Note that if you combine int with float in your calculations, the result is a float. If you combine int or float with complex, the result is complex.  \n",
    "Here are a (not complete) list of mathematical operations:\n",
    "1. Addition +\n",
    "2. Subtraction - \n",
    "3. Multiplication *\n",
    "4. Division /\n",
    "5. Integer division //\n",
    "6. Modulus (remainder) %\n",
    "7. Raising to a power **\n",
    "8. Matrix multiplication @"
   ]
  },
  {
   "cell_type": "markdown",
   "metadata": {},
   "source": [
    "A variable can be operated upon in-place:"
   ]
  },
  {
   "cell_type": "code",
   "execution_count": null,
   "metadata": {},
   "outputs": [],
   "source": [
    "var = 5\n",
    "var *= 2\n",
    "print(var)\n",
    "\n",
    "var -= 3\n",
    "print(var)"
   ]
  },
  {
   "cell_type": "markdown",
   "metadata": {},
   "source": [
    "**ToDo:** Rewrite the code so that it accepts user input height and weight and uses that to calculate the BMI."
   ]
  },
  {
   "cell_type": "code",
   "execution_count": null,
   "metadata": {},
   "outputs": [],
   "source": [
    "# Can you rewrite this to accept user input for the calculation?\n",
    "\n",
    "height = 1.74\n",
    "weight = 80\n",
    "\n",
    "bmi = float(weight) / (height) ** 2\n",
    "\n",
    "print(\"BMI is: \" + str(bmi))"
   ]
  },
  {
   "cell_type": "markdown",
   "metadata": {},
   "source": [
    "Note that with different data types, certain operations show differnt behavior. For example, the + operator adds two integers or floats together, but what does it do to two strings?  \n",
    "**ToDo:** Make two variables that hold strings, use the + operator on them, and print the result."
   ]
  },
  {
   "cell_type": "markdown",
   "metadata": {},
   "source": [
    "Python also has relational operators. These for instance compare different numbers to check which one is greater or if they are equal. The output of an expression with relational operators is a boolean.\n",
    "1. Greater than: a > b\n",
    "2. Less than: a < b\n",
    "3. Equal to: a == b\n",
    "4. Greater than or equal to: a >= b\n",
    "5. Less than or equal to: a <= b\n",
    "6. Not equal to: a != b"
   ]
  },
  {
   "cell_type": "code",
   "execution_count": null,
   "metadata": {},
   "outputs": [],
   "source": [
    "bird = 10\n",
    "word = 10\n",
    "\n",
    "bird == word"
   ]
  },
  {
   "cell_type": "markdown",
   "metadata": {},
   "source": [
    "In Python, operators that make logical combinations of expressions are called logical operators. They are the words **and** and **or**."
   ]
  },
  {
   "cell_type": "code",
   "execution_count": null,
   "metadata": {},
   "outputs": [],
   "source": [
    "100 > 90 and \"good\" == \"bad\""
   ]
  },
  {
   "cell_type": "markdown",
   "metadata": {},
   "source": [
    "**ToDo:** Accept a number from the user and print whether it is divisible by ten and greater than hundred."
   ]
  },
  {
   "cell_type": "markdown",
   "metadata": {},
   "source": [
    "### 4. Strings and their methods"
   ]
  },
  {
   "cell_type": "markdown",
   "metadata": {},
   "source": [
    "A method is a function that is specific to a certain \"object\" in Python. We won't be covering classes and objects (Object Oriented Programming) in today's workshop though. For now let's look at some examples of methods that are relevant to string objects, i.e. data with type str."
   ]
  },
  {
   "cell_type": "code",
   "execution_count": null,
   "metadata": {},
   "outputs": [],
   "source": [
    "name = \"python programming\"\n",
    "\n",
    "capital_name = name.capitalize()\n",
    "all_caps_name = name.upper()\n",
    "replace_t_name = name.replace('t','+')\n",
    "words_in_name = name.split(' ')\n",
    "\n",
    "print(capital_name)"
   ]
  },
  {
   "cell_type": "markdown",
   "metadata": {},
   "source": [
    "**ToDo:** User inputs a sentence. Convert the sentence to lower case, capitalize the first letter, and replace \"to\" with \"from\", and \"from\" with \"to\"."
   ]
  },
  {
   "cell_type": "markdown",
   "metadata": {},
   "source": [
    "### 5. Collections of items: tuples, lists, sets, and dictionaries\n",
    "A list in Python is an indexed collection of data. Every element in a list can be accessed by its positional index.\n",
    "A tuple is a list that is immutable.  \n",
    "A set is just like a list, but each element in the set is unique.  \n",
    "A dictionary is a collection of data where each element has an identifying keyword, and a value."
   ]
  },
  {
   "cell_type": "code",
   "execution_count": null,
   "metadata": {},
   "outputs": [],
   "source": [
    "list_1 = [1, 2, 3, 4, 5]\n",
    "list_2 = list()\n",
    "\n",
    "dict_1 = {\"Arms\":\"Heavy\", \"Knees\":\"Weak\", \"Palms\":\"Sweaty\", \"Vomit\":\"Sweater\"}\n",
    "dict_2 = dict()\n",
    "\n",
    "tuple_1 = (1, 3, 5, 7, 9)\n",
    "\n",
    "set_1 = {1, 1, 2, 3, 5, 8, 13}"
   ]
  },
  {
   "cell_type": "markdown",
   "metadata": {},
   "source": [
    "We can add new elements to a list by using the append or extend method of a list. We can add new elements to a dictionary either by defining a new key, or by using the update method of a dict. We can add new elements to a set by using the add or update method of a set."
   ]
  },
  {
   "cell_type": "code",
   "execution_count": null,
   "metadata": {},
   "outputs": [],
   "source": [
    "names = [\"Vikram\", \"Boby\", \"Ahmed\"]\n",
    "names.extend([\"Arjen\", \"Bart\", \"Benedikt\"])\n",
    "print(names)"
   ]
  },
  {
   "cell_type": "markdown",
   "metadata": {},
   "source": [
    "Slicing a list is an often confusing aspect of Python. Lists can be sliced using the index and the : operator. The slice operation is **inclusive** of the first index and **exclusive** of the last index. For example:"
   ]
  },
  {
   "cell_type": "code",
   "execution_count": null,
   "metadata": {},
   "outputs": [],
   "source": [
    "a_list = [12, 65, 34, -19, -18, 43, -24, -5, 0, 7, 17]\n",
    "\n",
    "# Slice from somewhere in the middle\n",
    "sub_list_mid = a_list[3:6]\n",
    "\n",
    "# Slice the first five elements\n",
    "sub_list_start = a_list[:5]\n",
    "\n",
    "# Slice from element 5 to the end\n",
    "sub_list_end = a_list[5:]\n",
    "\n",
    "# Slice the last five elements\n",
    "sub_list_last = a_list[-5:]\n",
    "\n",
    "# Make a copy of the list\n",
    "a_list_copy = a_list[:]"
   ]
  },
  {
   "cell_type": "markdown",
   "metadata": {},
   "source": [
    "**ToDo:** Make a list of everyone's ages. Remove all the duplicate elements, i.e. convert it into a set, and then back into a list. Then print the fourth, fifth, and sixth element from the resulting set."
   ]
  },
  {
   "cell_type": "markdown",
   "metadata": {},
   "source": [
    "A string can also be treated as a list of characters."
   ]
  },
  {
   "cell_type": "code",
   "execution_count": null,
   "metadata": {},
   "outputs": [],
   "source": [
    "charlist = \"Nothing but a string\"\n",
    "charlist[4:8]"
   ]
  },
  {
   "cell_type": "markdown",
   "metadata": {},
   "source": [
    "You can measure te length of a string using the len() function."
   ]
  },
  {
   "cell_type": "code",
   "execution_count": null,
   "metadata": {},
   "outputs": [],
   "source": [
    "len(charlist)"
   ]
  },
  {
   "cell_type": "markdown",
   "metadata": {},
   "source": [
    "### 5. Should we do this? Conditional statements\n",
    "In Python, we can check if a condition is true or not, using the if, elif, and else statements. We can execute different lines of code based on the results of these checks."
   ]
  },
  {
   "cell_type": "code",
   "execution_count": null,
   "metadata": {},
   "outputs": [],
   "source": [
    "a_number = input(\"Enter a number between one and a hundred: \")\n",
    "a_number = int(a_number)\n",
    "\n",
    "if a_number < 1:\n",
    "    print(\"That's too small!\")\n",
    "elif a_number > 100:\n",
    "    print(\"That's too large!\")\n",
    "else:\n",
    "    print(\"A wise choice!\")"
   ]
  },
  {
   "cell_type": "markdown",
   "metadata": {},
   "source": [
    "The if statement can also be used to check whether a certain element exists in a list, using the \"in\" keyword.  \n",
    "You can perform a function (such as converting from one data type to another) on every element of a list, using the map function."
   ]
  },
  {
   "cell_type": "markdown",
   "metadata": {},
   "source": [
    "**ToDo:** Enter a list of numbers from the user, separated by commas and no spaces. Split this list into the individual numbers in the list, and convert them from type str to type int. Check if the number 10 exists in this list, and if it does, display a message."
   ]
  },
  {
   "cell_type": "markdown",
   "metadata": {},
   "source": [
    "**ToDo:** Answer the riddle - a programmer's mother asks him to go to the store. She tells him, \"Buy a carton of milk. If they have eggs, buy twelve\". If you think like a progammer, and if the store had eggs, what does he end up buying?"
   ]
  },
  {
   "cell_type": "code",
   "execution_count": null,
   "metadata": {},
   "outputs": [],
   "source": [
    "milk_cartons = 0\n",
    "eggs = True\n",
    "\n",
    "milk_cartons += 1\n",
    "\n",
    "if(eggs):\n",
    "    milk_cartons += 12\n",
    "\n",
    "print(\"Milk cartons bought: \" + str(milk_bottles))"
   ]
  },
  {
   "cell_type": "markdown",
   "metadata": {},
   "source": [
    "**ToDo:** Enter a GPA between 1 and 10. Assign a grade based on the GPA. If the GPA is below 6, the grade is 'F'. If it is between 6 and 7, the grade is D. Between 7 and 8, grade C. Between 8 and 9, grade B. And above 9 is an 'A'. If the user inputs anything else, display an error message."
   ]
  },
  {
   "cell_type": "markdown",
   "metadata": {},
   "source": [
    "### 6. Let's do it again and again! Iteration statements\n",
    "There are two main kinds of loop statements in Python. The while loop and the for loop. The while loop constantly checks if a condition is satisfied, and continues to run as long as the condition remains satisfied. The for loop iterates over a list or a sequence, in order. A useful function to use with the for loop is the range() function."
   ]
  },
  {
   "cell_type": "code",
   "execution_count": null,
   "metadata": {},
   "outputs": [],
   "source": [
    "counter = 5\n",
    "while counter > 0:\n",
    "    print(\"Counter value \" + str(counter))\n",
    "    counter -= 1"
   ]
  },
  {
   "cell_type": "code",
   "execution_count": null,
   "metadata": {},
   "outputs": [],
   "source": [
    "some_list = [1, 3, 5, 7, 9]\n",
    "for iterable in some_list:\n",
    "    print(iterable)"
   ]
  },
  {
   "cell_type": "markdown",
   "metadata": {},
   "source": [
    "If you need to iterate over two or more lists at the same time, the \"zip\" function comes in handy. With zip, you can combine elements of two or more lists into a tuple, and iterate over these tuples. The iteration stops when the shortest list is completed."
   ]
  },
  {
   "cell_type": "code",
   "execution_count": null,
   "metadata": {},
   "outputs": [],
   "source": [
    "num_list = [1, 2, 3, 4, 5]\n",
    "word_list = [\"one\", \"two\", \"three\", \"four\", \"five\"]\n",
    "\n",
    "for num, word in zip(num_list, word_list):\n",
    "    print(\"Num = \" + str(num))\n",
    "    print(\"Word = \" + str(word))"
   ]
  },
  {
   "cell_type": "markdown",
   "metadata": {},
   "source": [
    "**ToDo:** Let's do that BMI calculation on a list of people. We store their heights in one list, their corresponding weights in another list, and in a loop we calculate the BMI for each person and store that in a third list."
   ]
  },
  {
   "cell_type": "markdown",
   "metadata": {},
   "source": [
    "The enumerate function also provides a handy iterable along with a counter. Using enumerate on a list gives you iterable tuples, where the first element of the tuple is a count value. The counter starts from zero by default, but you can provide a starting value as an argument to the enumerate function."
   ]
  },
  {
   "cell_type": "code",
   "execution_count": null,
   "metadata": {},
   "outputs": [],
   "source": [
    "for num, word in enumerate(word_list, 1):\n",
    "    print(\"Num = \" + str(num))\n",
    "    print(\"Word = \" + str(word))"
   ]
  },
  {
   "cell_type": "markdown",
   "metadata": {},
   "source": [
    "You can \"nest\" a loop inside another loop. This means the inner loop will run to completion at every iteration of the outer loop. For example:"
   ]
  },
  {
   "cell_type": "code",
   "execution_count": null,
   "metadata": {},
   "outputs": [],
   "source": [
    "outer = 1\n",
    "\n",
    "while outer < 10:\n",
    "    inner = 1\n",
    "    while inner < outer:\n",
    "        print(str(inner), end='')\n",
    "        inner += 1\n",
    "    print('')\n",
    "    outer += 1"
   ]
  },
  {
   "cell_type": "markdown",
   "metadata": {},
   "source": [
    "Sometimes you need to exit a loop before it has completed. There are two ways you can do this. The \"break\" statement exits the loop and brings the interpreter to the next line of code following the contents of the loop. The \"continue\" statement ends the current iteration of the loop, and starts the next iteration."
   ]
  },
  {
   "cell_type": "code",
   "execution_count": null,
   "metadata": {},
   "outputs": [],
   "source": [
    "lottery_nums = [4, 8, 15, 16, 23, 42]\n",
    "\n",
    "for index, value in enumerate(lottery_nums):\n",
    "    \n",
    "    counter = 1\n",
    "    while counter < 100:\n",
    "        if counter == lottery_nums[index]:\n",
    "            print(str(counter))\n",
    "            break\n",
    "        counter += 1"
   ]
  },
  {
   "cell_type": "code",
   "execution_count": null,
   "metadata": {},
   "outputs": [],
   "source": [
    "for letter in \"everest\":\n",
    "    if letter == \"e\":\n",
    "        continue\n",
    "    print(letter)"
   ]
  },
  {
   "cell_type": "markdown",
   "metadata": {},
   "source": [
    "### 7. Writing your own functions\n",
    "Sometimes we need to write a lot of code to do a single, repeatable task. In this case it is useful to write our own function, and replace that block of code with a function call."
   ]
  },
  {
   "cell_type": "code",
   "execution_count": null,
   "metadata": {},
   "outputs": [],
   "source": [
    "def bmi_calculator(h, w):\n",
    "    bmi = w / (h ** 2)"
   ]
  },
  {
   "cell_type": "markdown",
   "metadata": {},
   "source": [
    "We can set default values for the parameters passed to a function. These default parameters will be overwritten if the user passes different values."
   ]
  },
  {
   "cell_type": "code",
   "execution_count": null,
   "metadata": {},
   "outputs": [],
   "source": [
    "def volume_of_cylinder(h=10, r=5):\n",
    "    vol = 3.14159 * r ** 2 * h"
   ]
  },
  {
   "cell_type": "markdown",
   "metadata": {},
   "source": [
    "**ToDo:** Write a function that accepts a list of numbers, and takes the mean or median of these numbers, based on a boolean parameter called \"mean\". If mean is true, which it is by default, the function returns the arithmetic mean of the numbers. If mean is false, the function returns the median, i.e. the middle value of the sorted list."
   ]
  },
  {
   "cell_type": "markdown",
   "metadata": {},
   "source": [
    "### 8. Wrapping up\n",
    "You've learned a lot today! You now have all the skills to write some pretty powerful code in Python. You will soon put these skills to the test when you work on your projects. Some information you might find useful for your future experiments in programming:\n",
    "\n",
    "#### Python Integrated Development Environments (IDEs):\n",
    "We used Google Colab during this workshop, which provided us with a powerful virtual machine and a Python-notebook environment to code in. However if you wish to run code on your own computers, you would have to install Python on your computers, and use an editor to write your code. There are some highly user-friendly editors out there, called Integrated Development Environments (IDEs), which provide you with several features. Look up [PyCharm](https://www.jetbrains.com/pycharm/), [Spyder](https://www.spyder-ide.org/), and [Jupyter Notebooks](https://jupyter.org/) (the editor most similar to the one we are using right now).\n",
    "\n",
    "#### Further resources:\n",
    "You have access to the Python notebook we worked with today, and you can also use these resources to further your knowledge of Python programming and become more proficient.  \n",
    "1. [Python for Everybody Specialization](https://www.coursera.org/learn/python): A series of online courses offered by the University of Michigan, which starts from the absolute basics of programming, and takes you to a high level of proficiency. It is comprehensive, yet easy to follow.\n",
    "2. [Datacamp](https://www.datacamp.com/): A website with multiple online courses on various topics, including Python programming, fundamentals of data science, and machine learning.\n",
    "3. [Complete Python Bootcamp](https://www.udemy.com/complete-python-bootcamp/): A course that covers several concepts in Python, which can be completed in a few days to a week or two of serious study.\n",
    "\n",
    "Thank you for being a part of this workshop! I wish you luck in your future endeavours."
   ]
  }
 ],
 "metadata": {
  "kernelspec": {
   "display_name": "Python [default]",
   "language": "python",
   "name": "python3"
  },
  "language_info": {
   "codemirror_mode": {
    "name": "ipython",
    "version": 3
   },
   "file_extension": ".py",
   "mimetype": "text/x-python",
   "name": "python",
   "nbconvert_exporter": "python",
   "pygments_lexer": "ipython3",
   "version": "3.6.7"
  }
 },
 "nbformat": 4,
 "nbformat_minor": 2
}

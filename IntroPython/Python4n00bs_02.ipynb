{
 "cells": [
  {
   "cell_type": "markdown",
   "metadata": {},
   "source": [
    "# Python for n00bs"
   ]
  },
  {
   "cell_type": "markdown",
   "metadata": {},
   "source": [
    "## Workshop 2: Advanced Python for coders\n",
    "Welcome back to programming with Python! My name is Vikram Mark Radhakrishnan. You can find me on [LinkedIn](https://www.linkedin.com/in/vikram-mark-radhakrishnan-90038660/), or reach me via email at radhakrishnan@strw.leidenuniv.nl\n",
    "\n",
    "Shout-out to the [AI Lab One](https://www.meetup.com/AI-Lab/) and [City AI](https://city.ai/) for making this workshop possible!\n",
    "<img src=\"nb_images/AI_Lab.png\"> "
   ]
  },
  {
   "cell_type": "markdown",
   "metadata": {},
   "source": [
    "### 1. Here's how we function!\n",
    "We will begin today by learning how to write our own functions in Python.  \n",
    "Sometimes we need to write a lot of code to do a single, repeatable task. In this case it is useful to write our own function, and replace that block of code with a function call.  \n",
    "A function can accept zero to any number of parameters, and can either return something or not."
   ]
  },
  {
   "cell_type": "code",
   "execution_count": null,
   "metadata": {},
   "outputs": [],
   "source": [
    "def bmi_calculator(h, w):\n",
    "    bmi = w / (h ** 2)\n",
    "    \n",
    "    return bmi"
   ]
  },
  {
   "cell_type": "markdown",
   "metadata": {},
   "source": [
    "We can set default values for the parameters passed to a function. These default parameters will be overwritten if the user passes different values."
   ]
  },
  {
   "cell_type": "code",
   "execution_count": null,
   "metadata": {},
   "outputs": [],
   "source": [
    "def volume_of_cylinder(h=10, r=5):\n",
    "    vol = 3.14159 * r ** 2 * h\n",
    "    \n",
    "    return vol"
   ]
  },
  {
   "cell_type": "markdown",
   "metadata": {},
   "source": [
    "Python also allows us to write functions that take in a variable number of arguments. There are two ways you can do this. You can pass a parameter called \\*args to the function, or/and a parameter called \\*\\*kwargs.  \n",
    "The former implies that you are passing a list of arguments, which in the function will be accessed as a list named args. The latter implies that you are passing a dictionary, which in the function will be accessed by kwargs. Let's take a look at some examples."
   ]
  },
  {
   "cell_type": "code",
   "execution_count": null,
   "metadata": {},
   "outputs": [],
   "source": [
    "def multiplier(*args):\n",
    "    result = 1\n",
    "    for num in args:\n",
    "        result *= num\n",
    "    \n",
    "    print(\"After multiplying all these numbers together we get: \" + str(result))"
   ]
  },
  {
   "cell_type": "code",
   "execution_count": null,
   "metadata": {},
   "outputs": [],
   "source": [
    "def display_stats(**kwargs):\n",
    "    for key, value in kwargs.items():\n",
    "        print(\"The \" + key + \" is \" + str(value))"
   ]
  },
  {
   "cell_type": "code",
   "execution_count": null,
   "metadata": {},
   "outputs": [],
   "source": [
    "display_stats(name=\"Vikram\", age=\"29\", job=\"PhD Student\", hobby=\"Python Instructor\")"
   ]
  },
  {
   "cell_type": "markdown",
   "metadata": {},
   "source": [
    "**ToDo:** Write a function that accepts a list of numbers, and takes the mean or median of these numbers, based on a boolean parameter called \"mean\". If mean is true, which it is by default, the function returns the arithmetic mean of the numbers. If mean is false, the function returns the median, i.e. the middle value of the sorted list."
   ]
  },
  {
   "cell_type": "markdown",
   "metadata": {},
   "source": [
    "### 2. Let's file this away...\n",
    "Python allows for a lot of reusability. You can use codes that other people have written, simply by using import. Libraries and Python packages that are extremely useful for data science, for example, are available to you in Python simply by installing them on your computer and importing them in your code.  \n",
    "\n",
    "<img src=\"nb_images/python.png\"> "
   ]
  },
  {
   "cell_type": "markdown",
   "metadata": {},
   "source": [
    "A useful Python library is the [os](https://docs.python.org/3/library/os.html) library, i.e. the miscellaneous operating system interfaces library."
   ]
  },
  {
   "cell_type": "code",
   "execution_count": null,
   "metadata": {},
   "outputs": [],
   "source": [
    "import os\n",
    "current_directory = os.getcwd()\n",
    "print(\"First we were in \" + current_directory)\n",
    "\n",
    "os.mkdir(\"test_dir\")\n",
    "os.chdir(\"test_dir\")\n",
    "\n",
    "os.getcwd()"
   ]
  },
  {
   "cell_type": "code",
   "execution_count": null,
   "metadata": {},
   "outputs": [],
   "source": [
    "os.listdir(\"../\")"
   ]
  },
  {
   "cell_type": "markdown",
   "metadata": {},
   "source": [
    "We can create new files with Python using its built in file handling capapbility. We open a file to write, read, or append to with the \"open\" keyword."
   ]
  },
  {
   "cell_type": "code",
   "execution_count": null,
   "metadata": {},
   "outputs": [],
   "source": [
    "newfile = open(\"random.txt\", \"w\")\n",
    "newfile.write(\"This is a bunch of generic text. \")\n",
    "newfile.write(\"I would like to say a few words, and here they are.\\nNitwit! Blubber! Oddment! Tweak!\")\n",
    "newfile.close()"
   ]
  },
  {
   "cell_type": "code",
   "execution_count": null,
   "metadata": {},
   "outputs": [],
   "source": [
    "f = open(\"random.txt\", \"r\")\n",
    "print(f.readline())\n",
    "f.close()"
   ]
  },
  {
   "cell_type": "markdown",
   "metadata": {},
   "source": [
    "You don't want to forget to close the file after you are done with it! This is because when the file is opened, it is locked by Python, and cannot be accessed outside of Python, or opened in a differnt mode in the same code. It's better instead to use the \"with\" statement, which automatically takes care of closing the file, even if there is an exception."
   ]
  },
  {
   "cell_type": "code",
   "execution_count": null,
   "metadata": {},
   "outputs": [],
   "source": [
    "with open(\"random.txt\") as f:\n",
    "    read_data = f.read()\n",
    "\n",
    "print(read_data)"
   ]
  },
  {
   "cell_type": "markdown",
   "metadata": {},
   "source": [
    "**ToDo:** List all the files in the directory one level above your current working directory. Save this list in a file called \"index.txt\"."
   ]
  },
  {
   "cell_type": "markdown",
   "metadata": {},
   "source": [
    "### 3. Try-ing to deal with errors\n",
    "The try... except statement in Python is useful code for handling errors. If you execute a code that you suspect might fail for some particular reason, or if you just want to make sure your code runs through till the end without failing at certain problem spots, you can enclose the tricky code in a try block, and if this code generates an error, the code in the following except block will be executed. Let's look at an example:"
   ]
  },
  {
   "cell_type": "code",
   "execution_count": null,
   "metadata": {},
   "outputs": [],
   "source": [
    "# Let's try to read a file that doesn't exist:\n",
    "try:\n",
    "    f = open(\"imaginaryfile.txt\", \"r\")\n",
    "    f.readline()\n",
    "except:\n",
    "    print(\"That didn't work! Maybe this file does not exist?\")"
   ]
  },
  {
   "cell_type": "markdown",
   "metadata": {},
   "source": [
    "**ToDo**: Write a snippet of code to enter two floating point numbers from a user and find their product. If the user enters something that is not a floating point number, print an error message."
   ]
  },
  {
   "cell_type": "markdown",
   "metadata": {},
   "source": [
    "### 4. Let's put your Python skills in action!\n",
    "Let's move on to coding a fun little game in Python:"
   ]
  },
  {
   "cell_type": "code",
   "execution_count": null,
   "metadata": {},
   "outputs": [],
   "source": [
    "# We'll need this for what we are going to do next\n",
    "from IPython.display import clear_output"
   ]
  },
  {
   "cell_type": "markdown",
   "metadata": {},
   "source": [
    "We will code the game of Hangman together! The objective of the game is to guess a word or phrase by guessing letters. Each time you guess a letter that isn't part of the word, you lose an attempt. You have 10 attempts before the game is over."
   ]
  },
  {
   "cell_type": "code",
   "execution_count": null,
   "metadata": {},
   "outputs": [],
   "source": [
    "# This function displays the blanks and letters\n",
    "def display_word(gl, w, a=10):\n",
    "    # First clear the previous display\n",
    "    clear_output()\n",
    "    for character in w:\n",
    "        if character in gl: #display the letters already guessed\n",
    "            print(character, end = '')\n",
    "        elif character == ' ': #print spaces because we don't guess those\n",
    "            print(character, end = '')\n",
    "        else: #otherwise print a dash\n",
    "            print('_', end = '')\n",
    "    \n",
    "    print(\"\\nAttempts left: \" + str(a))\n",
    "\n",
    "# Let's make a list to store the letters that have already been guessed\n",
    "\n",
    "\n",
    "# We set the number of attempts to guess\n",
    "\n",
    "\n",
    "# Now player 1 inputs a word or phrase\n",
    "\n",
    "\n",
    "# Convert it to lower case to reduce complexity\n",
    "\n",
    "\n",
    "# We make a set out of this word to keep track of all the letters to guess\n",
    "# We also remove spaces because we don't guess those\n",
    "\n",
    "# Start a loop where you keep track of attempts\n",
    "\n",
    "    # Player 2 guesses a letter\n",
    "    \n",
    "    \n",
    "    # Check if this letter has not been guessed before, in which case add it to the list\n",
    "    \n",
    "    \n",
    "    # Check if the letter is in the actual word or phrase. If not, player 2 loses an attempt.\n",
    "    \n",
    "    # Otherwise remove this letter from the list of unique letters\n",
    "    \n",
    "    # Use the function written above to display the guessed word\n",
    "    \n",
    "    # Check for a win\n",
    "    "
   ]
  },
  {
   "cell_type": "markdown",
   "metadata": {},
   "source": [
    "### 5. OOPs I did it again!\n",
    "We are now going to look at something that can make your code a lot more efficient, modular, and reusable - Object Oriented Programming (OOP). We have already seen examples of \"objects\" in Python. Strings, lists, dictionaries, etc are all objects, that have associated attributes and methods. We refer to these as primitive data structures. We are now going to look into how we can create our own objects in Python and why this is useful.  \n",
    "  \n",
    "First let's understand what a \"class\" is. Essentially, a class is a blueprint, or prototype of an object. "
   ]
  },
  {
   "cell_type": "code",
   "execution_count": null,
   "metadata": {},
   "outputs": [],
   "source": [
    "class Store:\n",
    "    \n",
    "    # The initializer method. You never explicitly call this method, it runs when an object is instanciated\n",
    "    def __init__(self, money, **items):\n",
    "        self.money = money\n",
    "        self.products = items\n",
    "    \n",
    "    def buy(self):\n",
    "        pass\n",
    "    \n",
    "    def sell(self):\n",
    "        pass"
   ]
  },
  {
   "cell_type": "code",
   "execution_count": null,
   "metadata": {},
   "outputs": [],
   "source": [
    "# A class that inherits from the Store class. It extends the buy() and a sell() method polymorphically\n",
    "class groceryStore(Store):\n",
    "    def __init__(self, money, **items):\n",
    "        super().__init__(money, **items)\n",
    "    \n",
    "    def buy(self, item):\n",
    "        if item in self.products.keys():\n",
    "            self.products[item] += 1\n",
    "        else:\n",
    "            self.products[item] = 1\n",
    "        \n",
    "        self.money -= 1\n",
    "    \n",
    "    def sell(self, item):\n",
    "        if item in self.products.keys():\n",
    "            self.products[item] -= 1\n",
    "            self.money += 1\n",
    "        else:\n",
    "            print(\"Item out of stock\")"
   ]
  },
  {
   "cell_type": "code",
   "execution_count": null,
   "metadata": {},
   "outputs": [],
   "source": [
    "# This class inherits from Store, extends the buy() and sell() method polymorphically, and has a trade() method\n",
    "class fashionStore(Store):\n",
    "    def __init__(self, money, **items):\n",
    "        super().__init__(money, **items)\n",
    "    \n",
    "    def buy(self, item):\n",
    "        if item in self.products.keys():\n",
    "            self.products[item] += 1\n",
    "        else:\n",
    "            self.products[item] = 1\n",
    "        \n",
    "        self.money -= 100\n",
    "    \n",
    "    def sell(self, item):\n",
    "        if item in self.products.keys():\n",
    "            self.products[item] -= 1\n",
    "            self.money += 100\n",
    "        else:\n",
    "            print(\"Item out of stock\")\n",
    "    \n",
    "    def trade(self, item1, item2):\n",
    "        if item1 in self.products.keys():\n",
    "            self.products[item1] -= 1\n",
    "            \n",
    "            if item2 in self.products.keys():\n",
    "                self.products[item2] += 1\n",
    "            else:\n",
    "                self.products[item2] = 1\n",
    "        else:\n",
    "            print(\"Item out of stock\")"
   ]
  },
  {
   "cell_type": "markdown",
   "metadata": {},
   "source": [
    "To appreciate the power of OOP, we have to understand its underlying features:\n",
    "* Encapsulation\n",
    "* Inheritance\n",
    "* Polymorphism\n",
    "* Abstraction"
   ]
  },
  {
   "cell_type": "markdown",
   "metadata": {},
   "source": [
    "**ToDo:** Let's code the hangman game again, only this time we use object oriented programming!"
   ]
  },
  {
   "cell_type": "code",
   "execution_count": null,
   "metadata": {},
   "outputs": [],
   "source": [
    "class HangMan:\n",
    "    def __init__(self, word, attempts):\n",
    "        self.word = word.lower()\n",
    "        self.attempts = attempts\n",
    "        \n",
    "        self.gl = [] #an empty list initially which will store each guessed character\n",
    "        \n",
    "        # Store the unique characters in the word excluding spaces\n",
    "        self.unique_letters = set(self.word)\n",
    "        try:\n",
    "            self.unique_letters.remove(' ')\n",
    "        except:\n",
    "            pass\n",
    "    \n",
    "    def display_word(self):\n",
    "        \"\"\"Function to display the word with blanks for the not yet guessed letters\"\"\"\n",
    "        # First clear the previous display\n",
    "        clear_output()\n",
    "        for character in self.word:\n",
    "            if character in self.gl: #display the letters already guessed\n",
    "                print(character, end = '')\n",
    "            elif character == ' ': #print spaces because we don't guess those\n",
    "                print(character, end = '')\n",
    "            else: #otherwise print a dash\n",
    "                print('_', end = '')\n",
    "\n",
    "        print(\"\\nAttempts left: \" + str(self.attempts))\n",
    "    \n",
    "    def guess(self, letter):\n",
    "        \"\"\"Check if this letter has not been guessed before, in which case add it to the list.\n",
    "        Then check if the letter is in the word.\"\"\"\n",
    "        if letter in self.gl:\n",
    "            print(\"You guessed this letter before!\")\n",
    "        else:\n",
    "            self.gl.append(letter)\n",
    "            \n",
    "            if letter not in self.word:\n",
    "                self.attempts -= 1\n",
    "            else:\n",
    "                self.unique_letters.remove(letter)\n",
    "    \n",
    "    def playGame(self):\n",
    "        \"\"\"Keep displaying the blanks and guessing letters until the game is won or lost.\"\"\"\n",
    "        while(self.attempts > 0):\n",
    "            nextguess = input(\"Guess a letter: \")\n",
    "            self.guess(nextguess)\n",
    "            self.display_word()\n",
    "            \n",
    "            if len(self.unique_letters) == 0:\n",
    "                break\n",
    "        \n",
    "        if self.attempts > 0:\n",
    "            print(\"Victory!\")\n",
    "        else:\n",
    "            print(\"You lose!\")\n",
    "            "
   ]
  }
 ],
 "metadata": {
  "kernelspec": {
   "display_name": "Python [default]",
   "language": "python",
   "name": "python3"
  },
  "language_info": {
   "codemirror_mode": {
    "name": "ipython",
    "version": 3
   },
   "file_extension": ".py",
   "mimetype": "text/x-python",
   "name": "python",
   "nbconvert_exporter": "python",
   "pygments_lexer": "ipython3",
   "version": "3.6.7"
  }
 },
 "nbformat": 4,
 "nbformat_minor": 2
}
